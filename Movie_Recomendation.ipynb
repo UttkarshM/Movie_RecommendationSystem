{
  "nbformat": 4,
  "nbformat_minor": 0,
  "metadata": {
    "colab": {
      "provenance": [],
      "authorship_tag": "ABX9TyPLptf8ENH//1i9TVHIKx/c",
      "include_colab_link": true
    },
    "kernelspec": {
      "name": "python3",
      "display_name": "Python 3"
    },
    "language_info": {
      "name": "python"
    }
  },
  "cells": [
    {
      "cell_type": "markdown",
      "metadata": {
        "id": "view-in-github",
        "colab_type": "text"
      },
      "source": [
        "<a href=\"https://colab.research.google.com/github/UttkarshM/collaborative_filtering/blob/master/Movie_Recomendation.ipynb\" target=\"_parent\"><img src=\"https://colab.research.google.com/assets/colab-badge.svg\" alt=\"Open In Colab\"/></a>"
      ]
    },
    {
      "cell_type": "code",
      "source": [
        "from fuzzywuzzy import fuzz\n",
        "from fuzzywuzzy import process\n",
        "import numpy as np\n",
        "import pandas as pd\n",
        "# import matplotlib.pyplot as plt\n",
        "from sklearn.neighbors import NearestNeighbors"
      ],
      "metadata": {
        "id": "GsCF35AWfe8A"
      },
      "execution_count": null,
      "outputs": []
    },
    {
      "cell_type": "code",
      "execution_count": null,
      "metadata": {
        "id": "_WGXxkUCfXxF"
      },
      "outputs": [],
      "source": [
        "class Model:\n",
        "    def __init__(self):\n",
        "        self.iter = 0\n",
        "        self.movie = ['Tomb Raider','Big Bully','Fall Time','Batman'] # our movie list output for now\n",
        "        self.cf_knn_model = NearestNeighbors(metric=\"cosine\",algorithm=\"brute\",n_neighbors=10,n_jobs=-1)\n",
        "\n",
        "        self.movie_data = None\n",
        "        self.movie_metadata = None\n",
        "\n",
        "        self.user_ratings_df = None\n",
        "        self.user_item_matrix = None\n",
        "        self.tester = None\n",
        "        self.answer = None\n",
        "    def printAnswer(self):\n",
        "        print(self.answer)\n",
        "\n",
        "    def shortencsv(self): # make the csv files shorter #todo\n",
        "    #dont forget to import the csv files\n",
        "        self.user_ratings_df = pd.read_csv('ratings.csv', low_memory=False)\n",
        "        self.user_ratings_df = self.user_ratings_df.iloc[:60000]\n",
        "    def make_csv(self):\n",
        "        self.user_ratings_df = pd.read_csv('ratings.csv', low_memory=False)\n",
        "        self.movie_data = pd.read_csv(\"movies_metadata.csv\",low_memory=False)\n",
        "        self.tester = pd.read_csv(\"ratings.csv\",low_memory=False)\n",
        "    def make_data(self):# manipulating the data\n",
        "\n",
        "        self.movie_metadata = self.movie_data[[\"title\",\"genres\"]]\n",
        "        self.movie_metadata = self.movie_metadata[:40000]\n",
        "\n",
        "        self.movie_data = pd.concat([self.user_ratings_df,self.movie_metadata],axis=1).fillna(0)\n",
        "\n",
        "        self.user_ratings_df = self.user_ratings_df.iloc[:40000]\n",
        "        self.user_item_matrix = self.user_ratings_df.pivot(index=[\"userId\"],columns=[\"movieId\"],values='rating').fillna(0)\n",
        "\n",
        "        self.movie_data = self.movie_data.dropna()\n",
        "        self.movie_data = self.movie_data[:40000]\n",
        "\n",
        "        #was creating duplicate columns soo removed the column indices ,combined and then given column indices.\n",
        "        #some error with adding a empty row into the dataframe which is why this is done.\n",
        "        cols= self.user_item_matrix.columns\n",
        "        temp = self.user_item_matrix\n",
        "        arr = temp.to_numpy()\n",
        "\n",
        "        # print(arr.shape)\n",
        "\n",
        "        tempa = np.zeros((1,5719))\n",
        "\n",
        "        tempa = tempa.astype(\"int\")\n",
        "        arr=np.concatenate([arr,np.array(tempa)])\n",
        "        i = arr.shape[0]\n",
        "        self.user_item_matrix = arr\n",
        "        t1 = pd.DataFrame(self.user_item_matrix,columns=cols)\n",
        "        self.user_item_matrix = t1\n",
        "        self.user_item_matrix = self.user_item_matrix.fillna(0)\n",
        "\n",
        "    def movie_recommender_engine(self,movie_name, matrix, cf_model, n_recs,rating=2):\n",
        "        # Fit model on matrix\n",
        "        self.cf_knn_model.fit(matrix)\n",
        "\n",
        "        # Extract input movie ID\n",
        "\n",
        "        movie_id = process.extractOne(movie_name, self.movie_data['title'])\n",
        "        sl = int(movie_id[2])\n",
        "        it = self.movie_data.iloc[sl]['movieId']\n",
        "\n",
        "        # matrix[movie_id]\n",
        "\n",
        "        self.user_item_matrix.iloc[len(self.user_item_matrix)-1][it]=rating\n",
        "\n",
        "        # Calculate neighbour distances\n",
        "        #returns us the 10 nearest nodes\n",
        "        #indices are the movie ids\n",
        "        #distances are the distances from the user node\n",
        "\n",
        "        distances, indices = cf_model.kneighbors(np.array(self.user_item_matrix.iloc[len(self.user_item_matrix)-1]).reshape(1,-1), n_neighbors=n_recs)\n",
        "\n",
        "        # print(indices)\n",
        "\n",
        "        print(distances)\n",
        "        movie_rec_ids = sorted(list(zip(indices.squeeze().tolist(),distances.squeeze().tolist())),key=lambda x: x[1])\n",
        "\n",
        "        # print(movie_rec_ids)\n",
        "        #sorts\n",
        "\n",
        "        movie_rec_ids = movie_rec_ids[:0:-1]\n",
        "\n",
        "        # print(movie_rec_ids)\n",
        "\n",
        "        # # List to store recommendations\n",
        "\n",
        "        cf_recs = []\n",
        "        for i in movie_rec_ids:\n",
        "            cf_recs.append({'Title':self.movie_data['title'][i[0]],'Distance':i[1],'Movie Id':i[0]})\n",
        "\n",
        "        # selects top number of recommendations needed\n",
        "        # no need of this last part u can just send it as a list to the website\n",
        "        df = pd.DataFrame(cf_recs, index = range(1,n_recs))\n",
        "\n",
        "        return df[:400]\n",
        "\n",
        "    def model(self):\n",
        "        self.cf_knn_model.fit(self.user_item_matrix)\n",
        "        n_recs = 10\n",
        "        ur_rating = float(input('enter the similarity rating(0-5):'))\n",
        "        if ur_rating<=5 and ur_rating>=0:\n",
        "            self.answer = self.movie_recommender_engine(self.movie[self.iter%len(self.movie)] #django input for movie name\n",
        "                                                        , self.user_item_matrix, self.cf_knn_model, n_recs,\n",
        "                                                        ur_rating # django input rating\n",
        "                                                        )# this is where we send the input\n",
        "            print(self.answer)\n",
        "            print(self.user_item_matrix.iloc[len(self.user_item_matrix)-1].unique())\n",
        "            self.iter+=1\n",
        "            self.model()\n",
        "        else:\n",
        "            print(\"invalid rating\")\n",
        "        print()"
      ]
    },
    {
      "cell_type": "code",
      "source": [
        "d=Model()\n",
        "d.make_csv()\n",
        "d.make_data()\n",
        "d.model()"
      ],
      "metadata": {
        "id": "8nnpn1XPfi_X"
      },
      "execution_count": null,
      "outputs": []
    }
  ]
}